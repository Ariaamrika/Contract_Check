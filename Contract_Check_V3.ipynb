{
 "cells": [
  {
   "cell_type": "code",
   "execution_count": 2,
   "metadata": {},
   "outputs": [],
   "source": [
    "import os\n",
    "from dotenv import load_dotenv\n",
    "import openai\n",
    "import requests\n",
    "import json\n",
    "import time\n",
    "import logging\n",
    "from datetime import datetime\n"
   ]
  },
  {
   "cell_type": "code",
   "execution_count": 3,
   "metadata": {},
   "outputs": [],
   "source": [
    "# Load environment variables\n",
    "load_dotenv()\n",
    "openai.api_key = os.environ.get(\"OPENAI_API_KEY\")"
   ]
  },
  {
   "cell_type": "code",
   "execution_count": 4,
   "metadata": {},
   "outputs": [],
   "source": [
    "# Initialize OpenAI client\n",
    "client = openai.OpenAI()\n",
    "model = \"gpt-4o-mini\""
   ]
  },
  {
   "cell_type": "code",
   "execution_count": 5,
   "metadata": {},
   "outputs": [],
   "source": [
    "# Create Contract Checking Assistant\n",
    "instructions = \"\"\"\n",
    "You are a Contract Checking Assistant. Your task is to receive written contracts, check them against specified regulations, identify missing parts, suggest modifications, and provide recommendations for improvement.\n",
    "\n",
    "When a contract is provided, follow these steps:\n",
    "\n",
    "1. **Check for Compliance**:\n",
    "    - Verify that the contract complies with Iran's regulations.\n",
    "    - Check compliance with ICC and Incoterms regulations.\n",
    "2. **Identify Missing Parts**:\n",
    "    - Highlight any sections that are missing or incomplete.\n",
    "3. **Suggest Modifications**:\n",
    "    - Recommend changes to ensure the contract meets all legal and regulatory requirements.\n",
    "4. **Provide Improvements**:\n",
    "    - Offer suggestions on how to improve the contract for clarity, fairness, and comprehensiveness.\n",
    "5. **Compare with Similar Contracts**:\n",
    "    - Compare the contract with similar contracts to identify common practices and potential improvements.\n",
    "6. **Identify Weaknesses and Challenges**:\n",
    "    - Find weaknesses and challenging points in the contract and suggest modifications for these parts.\n",
    "\n",
    "Your responses should be clear, concise, and professional. Always provide detailed explanations for your suggestions and ensure that your feedback is actionable.\n",
    "\"\"\"\n"
   ]
  },
  {
   "cell_type": "code",
   "execution_count": 6,
   "metadata": {},
   "outputs": [
    {
     "name": "stdout",
     "output_type": "stream",
     "text": [
      "Assistant(id='asst_qlnzqe9DupI93qn9MdFPhlZJ', created_at=1725890478, description=None, instructions=\"\\nYou are a Contract Checking Assistant. Your task is to receive written contracts, check them against specified regulations, identify missing parts, suggest modifications, and provide recommendations for improvement.\\n\\nWhen a contract is provided, follow these steps:\\n\\n1. **Check for Compliance**:\\n    - Verify that the contract complies with Iran's regulations.\\n    - Check compliance with ICC and Incoterms regulations.\\n2. **Identify Missing Parts**:\\n    - Highlight any sections that are missing or incomplete.\\n3. **Suggest Modifications**:\\n    - Recommend changes to ensure the contract meets all legal and regulatory requirements.\\n4. **Provide Improvements**:\\n    - Offer suggestions on how to improve the contract for clarity, fairness, and comprehensiveness.\\n5. **Compare with Similar Contracts**:\\n    - Compare the contract with similar contracts to identify common practices and potential improvements.\\n6. **Identify Weaknesses and Challenges**:\\n    - Find weaknesses and challenging points in the contract and suggest modifications for these parts.\\n\\nYour responses should be clear, concise, and professional. Always provide detailed explanations for your suggestions and ensure that your feedback is actionable.\\n\", metadata={'project': 'Contract Review'}, model='gpt-4o-mini', name='Contract_Check_Assistant_V3', object='assistant', tools=[FileSearchTool(type='file_search', file_search=FileSearch(max_num_results=None, ranking_options=FileSearchRankingOptions(ranker='default_2024_08_21', score_threshold=0.0))), CodeInterpreterTool(type='code_interpreter')], response_format='auto', temperature=1.0, tool_resources=ToolResources(code_interpreter=ToolResourcesCodeInterpreter(file_ids=[]), file_search=ToolResourcesFileSearch(vector_store_ids=[])), top_p=1.0)\n",
      "asst_qlnzqe9DupI93qn9MdFPhlZJ\n"
     ]
    }
   ],
   "source": [
    "Contract_Checking_Assistant = client.beta.assistants.create(\n",
    "    name=\"Contract_Check_Assistant_V3\",\n",
    "    instructions=instructions,\n",
    "    model=model,\n",
    "    tools=[\n",
    "        {\"type\": \"file_search\"},\n",
    "        {\"type\": \"code_interpreter\"},\n",
    "            ],\n",
    "    metadata={\"project\": \"Contract Review\"}\n",
    ")\n",
    "print(Contract_Checking_Assistant)\n",
    "print(Contract_Checking_Assistant.id)"
   ]
  },
  {
   "cell_type": "code",
   "execution_count": 7,
   "metadata": {},
   "outputs": [],
   "source": [
    "# Create a vector store called \"The Rules\"\n",
    "vector_store = client.beta.vector_stores.create(name=\"The Rules\")"
   ]
  },
  {
   "cell_type": "code",
   "execution_count": 8,
   "metadata": {},
   "outputs": [],
   "source": [
    "# Ready the files for upload to OpenAI\n",
    "file_paths = [\"./ICCtraderules.pdf\", \"./Irantraderules.pdf\", \"./insurancerules.pdf\", \"./similarcontracts.pdf\"]\n",
    "file_streams = [open(path, \"rb\") for path in file_paths]"
   ]
  },
  {
   "cell_type": "code",
   "execution_count": 9,
   "metadata": {},
   "outputs": [],
   "source": [
    "# Upload files to the vector store and poll the status\n",
    "file_batch = client.beta.vector_stores.file_batches.upload_and_poll(\n",
    "    vector_store_id=vector_store.id, files=file_streams\n",
    ")"
   ]
  },
  {
   "cell_type": "code",
   "execution_count": 10,
   "metadata": {},
   "outputs": [
    {
     "name": "stdout",
     "output_type": "stream",
     "text": [
      "failed\n",
      "FileCounts(cancelled=0, completed=0, failed=4, in_progress=0, total=4)\n"
     ]
    }
   ],
   "source": [
    "# Print the status and file counts of the batch\n",
    "print(file_batch.status)\n",
    "print(file_batch.file_counts)"
   ]
  },
  {
   "cell_type": "code",
   "execution_count": 12,
   "metadata": {},
   "outputs": [],
   "source": [
    "# Update the assistant with the vector store\n",
    "Contract_Checking_Assistant = client.beta.assistants.update(\n",
    "    assistant_id=Contract_Checking_Assistant.id,\n",
    "    tool_resources={\"file_search\": {\"vector_store_ids\": [vector_store.id]}}\n",
    ")\n"
   ]
  },
  {
   "cell_type": "code",
   "execution_count": 37,
   "metadata": {},
   "outputs": [
    {
     "name": "stdout",
     "output_type": "stream",
     "text": [
      "Sample Thread ID:\n",
      "thread_At3XKKUUCbZemLhvkLpZcem8\n"
     ]
    }
   ],
   "source": [
    "\n",
    "\n",
    "# Create a sample thread with a non-empty message content\n",
    "sample_thread = client.beta.threads.create(\n",
    "    messages=[\n",
    "        {\n",
    "            \"role\": \"user\",\n",
    "            \"content\": 'Please check the contract against the specified regulations.'\n",
    "        }\n",
    "    ]\n",
    ")\n",
    "\n",
    "print(\"Sample Thread ID:\")\n",
    "print(sample_thread.id)\n"
   ]
  },
  {
   "cell_type": "code",
   "execution_count": null,
   "metadata": {},
   "outputs": [],
   "source": []
  }
 ],
 "metadata": {
  "kernelspec": {
   "display_name": "tensorenv",
   "language": "python",
   "name": "python3"
  },
  "language_info": {
   "codemirror_mode": {
    "name": "ipython",
    "version": 3
   },
   "file_extension": ".py",
   "mimetype": "text/x-python",
   "name": "python",
   "nbconvert_exporter": "python",
   "pygments_lexer": "ipython3",
   "version": "3.11.9"
  }
 },
 "nbformat": 4,
 "nbformat_minor": 2
}
